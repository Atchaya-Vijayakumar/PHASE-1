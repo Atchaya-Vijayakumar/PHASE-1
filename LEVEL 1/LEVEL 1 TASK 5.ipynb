{
 "cells": [
  {
   "cell_type": "code",
   "execution_count": 1,
   "id": "d0b3f194-a84b-4607-bfd6-2afbcda91429",
   "metadata": {},
   "outputs": [
    {
     "name": "stdin",
     "output_type": "stream",
     "text": [
      "enter key value: X\n",
      "enter value: 1\n",
      "enter key value: Y\n",
      "enter value: 2\n",
      "enter key value: Z\n",
      "enter value: 3\n"
     ]
    },
    {
     "name": "stdout",
     "output_type": "stream",
     "text": [
      "\n",
      "final dictonary: {'X': 1, 'Y': 2, 'Z': 3}\n"
     ]
    }
   ],
   "source": [
    "dict={}\n",
    "for _ in range(3):\n",
    "    key=input(\"enter key value:\")\n",
    "    value=int(input(\"enter value:\"))\n",
    "    dict[key]=value\n",
    "print(\"\\nfinal dictonary:\",dict)"
   ]
  },
  {
   "cell_type": "code",
   "execution_count": null,
   "id": "199b3a63-cab2-430a-9006-0bdcd3f829d7",
   "metadata": {},
   "outputs": [],
   "source": []
  }
 ],
 "metadata": {
  "kernelspec": {
   "display_name": "Python 3 (ipykernel)",
   "language": "python",
   "name": "python3"
  },
  "language_info": {
   "codemirror_mode": {
    "name": "ipython",
    "version": 3
   },
   "file_extension": ".py",
   "mimetype": "text/x-python",
   "name": "python",
   "nbconvert_exporter": "python",
   "pygments_lexer": "ipython3",
   "version": "3.12.4"
  }
 },
 "nbformat": 4,
 "nbformat_minor": 5
}
